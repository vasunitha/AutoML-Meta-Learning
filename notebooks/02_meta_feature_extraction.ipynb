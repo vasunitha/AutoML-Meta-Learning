{
 "cells": [
  {
   "cell_type": "code",
   "execution_count": 1,
   "id": "cce51bda",
   "metadata": {},
   "outputs": [
    {
     "name": "stderr",
     "output_type": "stream",
     "text": [
      "c:\\Users\\Vasu\\anaconda3\\envs\\automl\\lib\\site-packages\\pymfe\\_internal.py:732: RuntimeWarning: Can't summarize feature 'can_cor' with summary 'sd'. Will set it as 'np.nan'.\n",
      "  warnings.warn(\n",
      "c:\\Users\\Vasu\\anaconda3\\envs\\automl\\lib\\site-packages\\pymfe\\statistical.py:1266: RuntimeWarning: invalid value encountered in log\n",
      "  np.log(np.linalg.det(S_i)) for S_i in sample_cov_matrices\n"
     ]
    },
    {
     "name": "stdout",
     "output_type": "stream",
     "text": [
      "✅ Extracted meta-features for dataset_146_BNG(ionosphere)\n"
     ]
    },
    {
     "name": "stderr",
     "output_type": "stream",
     "text": [
      "c:\\Users\\Vasu\\anaconda3\\envs\\automl\\lib\\site-packages\\pymfe\\_internal.py:1567: UserWarning: It is not possible make equal discretization\n",
      "  warnings.warn(\"It is not possible make equal discretization\")\n",
      "c:\\Users\\Vasu\\anaconda3\\envs\\automl\\lib\\site-packages\\pymfe\\_internal.py:732: RuntimeWarning: Can't summarize feature 'can_cor' with summary 'sd'. Will set it as 'np.nan'.\n",
      "  warnings.warn(\n",
      "c:\\Users\\Vasu\\anaconda3\\envs\\automl\\lib\\site-packages\\pymfe\\_internal.py:732: RuntimeWarning: Can't summarize feature 'g_mean' with summary 'mean'. Will set it as 'np.nan'.\n",
      "  warnings.warn(\n",
      "c:\\Users\\Vasu\\anaconda3\\envs\\automl\\lib\\site-packages\\pymfe\\_internal.py:732: RuntimeWarning: Can't summarize feature 'g_mean' with summary 'sd'. Will set it as 'np.nan'.\n",
      "  warnings.warn(\n",
      "c:\\Users\\Vasu\\anaconda3\\envs\\automl\\lib\\site-packages\\scipy\\stats\\_axis_nan_policy.py:618: RuntimeWarning: The harmonic mean is only defined if all elements are non-negative; otherwise, the result is NaN.\n",
      "  res = hypotest_fun_out(*samples, axis=axis, **kwds)\n",
      "c:\\Users\\Vasu\\anaconda3\\envs\\automl\\lib\\site-packages\\pymfe\\_internal.py:732: RuntimeWarning: Can't summarize feature 'h_mean' with summary 'mean'. Will set it as 'np.nan'.\n",
      "  warnings.warn(\n",
      "c:\\Users\\Vasu\\anaconda3\\envs\\automl\\lib\\site-packages\\pymfe\\_internal.py:732: RuntimeWarning: Can't summarize feature 'h_mean' with summary 'sd'. Will set it as 'np.nan'.\n",
      "  warnings.warn(\n"
     ]
    },
    {
     "name": "stdout",
     "output_type": "stream",
     "text": [
      "✅ Extracted meta-features for dataset_1489_phoneme\n"
     ]
    },
    {
     "name": "stderr",
     "output_type": "stream",
     "text": [
      "c:\\Users\\Vasu\\anaconda3\\envs\\automl\\lib\\site-packages\\pymfe\\_internal.py:1567: UserWarning: It is not possible make equal discretization\n",
      "  warnings.warn(\"It is not possible make equal discretization\")\n",
      "c:\\Users\\Vasu\\anaconda3\\envs\\automl\\lib\\site-packages\\pymfe\\_internal.py:732: RuntimeWarning: Can't summarize feature 'can_cor' with summary 'sd'. Will set it as 'np.nan'.\n",
      "  warnings.warn(\n",
      "c:\\Users\\Vasu\\anaconda3\\envs\\automl\\lib\\site-packages\\scipy\\stats\\_axis_nan_policy.py:586: UserWarning: scipy.stats.shapiro: Input data has range zero. The results may not be accurate.\n",
      "  res = hypotest_fun_out(*samples, **kwds)\n"
     ]
    },
    {
     "name": "stdout",
     "output_type": "stream",
     "text": [
      "✅ Extracted meta-features for dataset_151_electricity\n"
     ]
    },
    {
     "name": "stderr",
     "output_type": "stream",
     "text": [
      "c:\\Users\\Vasu\\anaconda3\\envs\\automl\\lib\\site-packages\\pymfe\\_internal.py:1567: UserWarning: It is not possible make equal discretization\n",
      "  warnings.warn(\"It is not possible make equal discretization\")\n",
      "c:\\Users\\Vasu\\anaconda3\\envs\\automl\\lib\\site-packages\\pymfe\\_internal.py:1282: UserWarning:  * Something went wrong while precomputing 'precompute_can_cors'. Will ignore this method. Error message:\n",
      "ValueError('Input X contains NaN.\\nCCA does not accept missing values encoded as NaN natively. For supervised learning, you might want to consider sklearn.ensemble.HistGradientBoostingClassifier and Regressor which accept missing values encoded as NaNs natively. Alternatively, it is possible to preprocess the data, for instance by using an imputer transformer in a pipeline or drop samples with missing values. See https://scikit-learn.org/stable/modules/impute.html You can find a list of all estimators that handle NaN values at the following page: https://scikit-learn.org/stable/modules/impute.html#estimators-that-handle-nan-values').\n",
      "  warnings.warn(\n",
      "c:\\Users\\Vasu\\anaconda3\\envs\\automl\\lib\\site-packages\\pymfe\\_internal.py:607: RuntimeWarning: Can't extract feature 'can_cor'.\n",
      " Exception message: ValueError('Input X contains NaN.\\nCCA does not accept missing values encoded as NaN natively. For supervised learning, you might want to consider sklearn.ensemble.HistGradientBoostingClassifier and Regressor which accept missing values encoded as NaNs natively. Alternatively, it is possible to preprocess the data, for instance by using an imputer transformer in a pipeline or drop samples with missing values. See https://scikit-learn.org/stable/modules/impute.html You can find a list of all estimators that handle NaN values at the following page: https://scikit-learn.org/stable/modules/impute.html#estimators-that-handle-nan-values').\n",
      " Will set it as 'np.nan' for all summary functions.\n",
      "  warnings.warn(\n",
      "c:\\Users\\Vasu\\anaconda3\\envs\\automl\\lib\\site-packages\\numpy\\_core\\fromnumeric.py:3860: RuntimeWarning: Mean of empty slice.\n",
      "  return _methods._mean(a, axis=axis, dtype=dtype,\n",
      "c:\\Users\\Vasu\\anaconda3\\envs\\automl\\lib\\site-packages\\numpy\\_core\\_methods.py:145: RuntimeWarning: invalid value encountered in scalar divide\n",
      "  ret = ret.dtype.type(ret / rcount)\n",
      "c:\\Users\\Vasu\\anaconda3\\envs\\automl\\lib\\site-packages\\pymfe\\_internal.py:732: RuntimeWarning: Can't summarize feature 'can_cor' with summary 'mean'. Will set it as 'np.nan'.\n",
      "  warnings.warn(\n",
      "c:\\Users\\Vasu\\anaconda3\\envs\\automl\\lib\\site-packages\\pymfe\\_internal.py:732: RuntimeWarning: Can't summarize feature 'can_cor' with summary 'sd'. Will set it as 'np.nan'.\n",
      "  warnings.warn(\n",
      "c:\\Users\\Vasu\\anaconda3\\envs\\automl\\lib\\site-packages\\pymfe\\_internal.py:732: RuntimeWarning: Can't summarize feature 'cor' with summary 'mean'. Will set it as 'np.nan'.\n",
      "  warnings.warn(\n",
      "c:\\Users\\Vasu\\anaconda3\\envs\\automl\\lib\\site-packages\\pymfe\\_internal.py:732: RuntimeWarning: Can't summarize feature 'cor' with summary 'sd'. Will set it as 'np.nan'.\n",
      "  warnings.warn(\n",
      "c:\\Users\\Vasu\\anaconda3\\envs\\automl\\lib\\site-packages\\pymfe\\_internal.py:732: RuntimeWarning: Can't summarize feature 'cov' with summary 'mean'. Will set it as 'np.nan'.\n",
      "  warnings.warn(\n",
      "c:\\Users\\Vasu\\anaconda3\\envs\\automl\\lib\\site-packages\\pymfe\\_internal.py:732: RuntimeWarning: Can't summarize feature 'cov' with summary 'sd'. Will set it as 'np.nan'.\n",
      "  warnings.warn(\n",
      "c:\\Users\\Vasu\\anaconda3\\envs\\automl\\lib\\site-packages\\pymfe\\_internal.py:607: RuntimeWarning: Can't extract feature 'eigenvalues'.\n",
      " Exception message: LinAlgError('Eigenvalues did not converge').\n",
      " Will set it as 'np.nan' for all summary functions.\n",
      "  warnings.warn(\n",
      "c:\\Users\\Vasu\\anaconda3\\envs\\automl\\lib\\site-packages\\pymfe\\_internal.py:732: RuntimeWarning: Can't summarize feature 'eigenvalues' with summary 'mean'. Will set it as 'np.nan'.\n",
      "  warnings.warn(\n",
      "c:\\Users\\Vasu\\anaconda3\\envs\\automl\\lib\\site-packages\\pymfe\\_internal.py:732: RuntimeWarning: Can't summarize feature 'eigenvalues' with summary 'sd'. Will set it as 'np.nan'.\n",
      "  warnings.warn(\n",
      "c:\\Users\\Vasu\\anaconda3\\envs\\automl\\lib\\site-packages\\pymfe\\_internal.py:732: RuntimeWarning: Can't summarize feature 'g_mean' with summary 'mean'. Will set it as 'np.nan'.\n",
      "  warnings.warn(\n",
      "c:\\Users\\Vasu\\anaconda3\\envs\\automl\\lib\\site-packages\\pymfe\\_internal.py:732: RuntimeWarning: Can't summarize feature 'g_mean' with summary 'sd'. Will set it as 'np.nan'.\n",
      "  warnings.warn(\n",
      "c:\\Users\\Vasu\\anaconda3\\envs\\automl\\lib\\site-packages\\scipy\\stats\\_axis_nan_policy.py:648: RuntimeWarning: The harmonic mean is only defined if all elements are non-negative; otherwise, the result is NaN.\n",
      "  return result_to_tuple(hypotest_fun_out(*samples, **kwds), n_out)\n",
      "c:\\Users\\Vasu\\anaconda3\\envs\\automl\\lib\\site-packages\\pymfe\\_internal.py:732: RuntimeWarning: Can't summarize feature 'h_mean' with summary 'mean'. Will set it as 'np.nan'.\n",
      "  warnings.warn(\n",
      "c:\\Users\\Vasu\\anaconda3\\envs\\automl\\lib\\site-packages\\pymfe\\_internal.py:732: RuntimeWarning: Can't summarize feature 'h_mean' with summary 'sd'. Will set it as 'np.nan'.\n",
      "  warnings.warn(\n",
      "c:\\Users\\Vasu\\anaconda3\\envs\\automl\\lib\\site-packages\\pymfe\\_internal.py:732: RuntimeWarning: Can't summarize feature 'iq_range' with summary 'mean'. Will set it as 'np.nan'.\n",
      "  warnings.warn(\n",
      "c:\\Users\\Vasu\\anaconda3\\envs\\automl\\lib\\site-packages\\pymfe\\_internal.py:732: RuntimeWarning: Can't summarize feature 'iq_range' with summary 'sd'. Will set it as 'np.nan'.\n",
      "  warnings.warn(\n",
      "c:\\Users\\Vasu\\anaconda3\\envs\\automl\\lib\\site-packages\\pymfe\\_internal.py:732: RuntimeWarning: Can't summarize feature 'kurtosis' with summary 'mean'. Will set it as 'np.nan'.\n",
      "  warnings.warn(\n",
      "c:\\Users\\Vasu\\anaconda3\\envs\\automl\\lib\\site-packages\\pymfe\\_internal.py:732: RuntimeWarning: Can't summarize feature 'kurtosis' with summary 'sd'. Will set it as 'np.nan'.\n",
      "  warnings.warn(\n",
      "c:\\Users\\Vasu\\anaconda3\\envs\\automl\\lib\\site-packages\\pymfe\\_internal.py:607: RuntimeWarning: Can't extract feature 'lh_trace'.\n",
      " Exception message: ValueError('Input X contains NaN.\\nCCA does not accept missing values encoded as NaN natively. For supervised learning, you might want to consider sklearn.ensemble.HistGradientBoostingClassifier and Regressor which accept missing values encoded as NaNs natively. Alternatively, it is possible to preprocess the data, for instance by using an imputer transformer in a pipeline or drop samples with missing values. See https://scikit-learn.org/stable/modules/impute.html You can find a list of all estimators that handle NaN values at the following page: https://scikit-learn.org/stable/modules/impute.html#estimators-that-handle-nan-values').\n",
      "  warnings.warn(\n",
      "c:\\Users\\Vasu\\anaconda3\\envs\\automl\\lib\\site-packages\\pymfe\\_internal.py:732: RuntimeWarning: Can't summarize feature 'mad' with summary 'mean'. Will set it as 'np.nan'.\n",
      "  warnings.warn(\n",
      "c:\\Users\\Vasu\\anaconda3\\envs\\automl\\lib\\site-packages\\pymfe\\_internal.py:732: RuntimeWarning: Can't summarize feature 'mad' with summary 'sd'. Will set it as 'np.nan'.\n",
      "  warnings.warn(\n",
      "c:\\Users\\Vasu\\anaconda3\\envs\\automl\\lib\\site-packages\\pymfe\\_internal.py:732: RuntimeWarning: Can't summarize feature 'max' with summary 'mean'. Will set it as 'np.nan'.\n",
      "  warnings.warn(\n",
      "c:\\Users\\Vasu\\anaconda3\\envs\\automl\\lib\\site-packages\\pymfe\\_internal.py:732: RuntimeWarning: Can't summarize feature 'max' with summary 'sd'. Will set it as 'np.nan'.\n",
      "  warnings.warn(\n",
      "c:\\Users\\Vasu\\anaconda3\\envs\\automl\\lib\\site-packages\\pymfe\\_internal.py:732: RuntimeWarning: Can't summarize feature 'mean' with summary 'mean'. Will set it as 'np.nan'.\n",
      "  warnings.warn(\n",
      "c:\\Users\\Vasu\\anaconda3\\envs\\automl\\lib\\site-packages\\pymfe\\_internal.py:732: RuntimeWarning: Can't summarize feature 'mean' with summary 'sd'. Will set it as 'np.nan'.\n",
      "  warnings.warn(\n",
      "c:\\Users\\Vasu\\anaconda3\\envs\\automl\\lib\\site-packages\\pymfe\\_internal.py:732: RuntimeWarning: Can't summarize feature 'median' with summary 'mean'. Will set it as 'np.nan'.\n",
      "  warnings.warn(\n",
      "c:\\Users\\Vasu\\anaconda3\\envs\\automl\\lib\\site-packages\\pymfe\\_internal.py:732: RuntimeWarning: Can't summarize feature 'median' with summary 'sd'. Will set it as 'np.nan'.\n",
      "  warnings.warn(\n",
      "c:\\Users\\Vasu\\anaconda3\\envs\\automl\\lib\\site-packages\\pymfe\\_internal.py:732: RuntimeWarning: Can't summarize feature 'min' with summary 'mean'. Will set it as 'np.nan'.\n",
      "  warnings.warn(\n",
      "c:\\Users\\Vasu\\anaconda3\\envs\\automl\\lib\\site-packages\\pymfe\\_internal.py:732: RuntimeWarning: Can't summarize feature 'min' with summary 'sd'. Will set it as 'np.nan'.\n",
      "  warnings.warn(\n",
      "c:\\Users\\Vasu\\anaconda3\\envs\\automl\\lib\\site-packages\\pymfe\\_internal.py:607: RuntimeWarning: Can't extract feature 'nr_disc'.\n",
      " Exception message: ValueError('Input X contains NaN.\\nCCA does not accept missing values encoded as NaN natively. For supervised learning, you might want to consider sklearn.ensemble.HistGradientBoostingClassifier and Regressor which accept missing values encoded as NaNs natively. Alternatively, it is possible to preprocess the data, for instance by using an imputer transformer in a pipeline or drop samples with missing values. See https://scikit-learn.org/stable/modules/impute.html You can find a list of all estimators that handle NaN values at the following page: https://scikit-learn.org/stable/modules/impute.html#estimators-that-handle-nan-values').\n",
      "  warnings.warn(\n",
      "c:\\Users\\Vasu\\anaconda3\\envs\\automl\\lib\\site-packages\\pymfe\\_internal.py:607: RuntimeWarning: Can't extract feature 'p_trace'.\n",
      " Exception message: ValueError('Input X contains NaN.\\nCCA does not accept missing values encoded as NaN natively. For supervised learning, you might want to consider sklearn.ensemble.HistGradientBoostingClassifier and Regressor which accept missing values encoded as NaNs natively. Alternatively, it is possible to preprocess the data, for instance by using an imputer transformer in a pipeline or drop samples with missing values. See https://scikit-learn.org/stable/modules/impute.html You can find a list of all estimators that handle NaN values at the following page: https://scikit-learn.org/stable/modules/impute.html#estimators-that-handle-nan-values').\n",
      "  warnings.warn(\n",
      "c:\\Users\\Vasu\\anaconda3\\envs\\automl\\lib\\site-packages\\pymfe\\_internal.py:732: RuntimeWarning: Can't summarize feature 'range' with summary 'mean'. Will set it as 'np.nan'.\n",
      "  warnings.warn(\n",
      "c:\\Users\\Vasu\\anaconda3\\envs\\automl\\lib\\site-packages\\pymfe\\_internal.py:732: RuntimeWarning: Can't summarize feature 'range' with summary 'sd'. Will set it as 'np.nan'.\n",
      "  warnings.warn(\n",
      "c:\\Users\\Vasu\\anaconda3\\envs\\automl\\lib\\site-packages\\pymfe\\_internal.py:607: RuntimeWarning: Can't extract feature 'roy_root'.\n",
      " Exception message: ValueError('Input X contains NaN.\\nCCA does not accept missing values encoded as NaN natively. For supervised learning, you might want to consider sklearn.ensemble.HistGradientBoostingClassifier and Regressor which accept missing values encoded as NaNs natively. Alternatively, it is possible to preprocess the data, for instance by using an imputer transformer in a pipeline or drop samples with missing values. See https://scikit-learn.org/stable/modules/impute.html You can find a list of all estimators that handle NaN values at the following page: https://scikit-learn.org/stable/modules/impute.html#estimators-that-handle-nan-values').\n",
      "  warnings.warn(\n",
      "c:\\Users\\Vasu\\anaconda3\\envs\\automl\\lib\\site-packages\\pymfe\\_internal.py:732: RuntimeWarning: Can't summarize feature 'sd' with summary 'mean'. Will set it as 'np.nan'.\n",
      "  warnings.warn(\n",
      "c:\\Users\\Vasu\\anaconda3\\envs\\automl\\lib\\site-packages\\pymfe\\_internal.py:732: RuntimeWarning: Can't summarize feature 'sd' with summary 'sd'. Will set it as 'np.nan'.\n",
      "  warnings.warn(\n",
      "c:\\Users\\Vasu\\anaconda3\\envs\\automl\\lib\\site-packages\\numpy\\linalg\\_linalg.py:2383: RuntimeWarning: invalid value encountered in det\n",
      "  r = _umath_linalg.det(a, signature=signature)\n",
      "c:\\Users\\Vasu\\anaconda3\\envs\\automl\\lib\\site-packages\\numpy\\linalg\\_linalg.py:2383: RuntimeWarning: divide by zero encountered in det\n",
      "  r = _umath_linalg.det(a, signature=signature)\n",
      "c:\\Users\\Vasu\\anaconda3\\envs\\automl\\lib\\site-packages\\pymfe\\_internal.py:732: RuntimeWarning: Can't summarize feature 'skewness' with summary 'mean'. Will set it as 'np.nan'.\n",
      "  warnings.warn(\n",
      "c:\\Users\\Vasu\\anaconda3\\envs\\automl\\lib\\site-packages\\pymfe\\_internal.py:732: RuntimeWarning: Can't summarize feature 'skewness' with summary 'sd'. Will set it as 'np.nan'.\n",
      "  warnings.warn(\n",
      "c:\\Users\\Vasu\\anaconda3\\envs\\automl\\lib\\site-packages\\pymfe\\_internal.py:732: RuntimeWarning: Can't summarize feature 'var' with summary 'mean'. Will set it as 'np.nan'.\n",
      "  warnings.warn(\n",
      "c:\\Users\\Vasu\\anaconda3\\envs\\automl\\lib\\site-packages\\pymfe\\_internal.py:732: RuntimeWarning: Can't summarize feature 'var' with summary 'sd'. Will set it as 'np.nan'.\n",
      "  warnings.warn(\n",
      "c:\\Users\\Vasu\\anaconda3\\envs\\automl\\lib\\site-packages\\pymfe\\_internal.py:607: RuntimeWarning: Can't extract feature 'w_lambda'.\n",
      " Exception message: ValueError('Input X contains NaN.\\nCCA does not accept missing values encoded as NaN natively. For supervised learning, you might want to consider sklearn.ensemble.HistGradientBoostingClassifier and Regressor which accept missing values encoded as NaNs natively. Alternatively, it is possible to preprocess the data, for instance by using an imputer transformer in a pipeline or drop samples with missing values. See https://scikit-learn.org/stable/modules/impute.html You can find a list of all estimators that handle NaN values at the following page: https://scikit-learn.org/stable/modules/impute.html#estimators-that-handle-nan-values').\n",
      "  warnings.warn(\n"
     ]
    },
    {
     "name": "stdout",
     "output_type": "stream",
     "text": [
      "✅ Extracted meta-features for dataset_188_eucalyptus\n"
     ]
    },
    {
     "name": "stderr",
     "output_type": "stream",
     "text": [
      "c:\\Users\\Vasu\\anaconda3\\envs\\automl\\lib\\site-packages\\pymfe\\_internal.py:1567: UserWarning: It is not possible make equal discretization\n",
      "  warnings.warn(\"It is not possible make equal discretization\")\n",
      "c:\\Users\\Vasu\\anaconda3\\envs\\automl\\lib\\site-packages\\pymfe\\_internal.py:732: RuntimeWarning: Can't summarize feature 'can_cor' with summary 'sd'. Will set it as 'np.nan'.\n",
      "  warnings.warn(\n",
      "c:\\Users\\Vasu\\anaconda3\\envs\\automl\\lib\\site-packages\\pymfe\\statistical.py:1266: RuntimeWarning: invalid value encountered in log\n",
      "  np.log(np.linalg.det(S_i)) for S_i in sample_cov_matrices\n",
      "c:\\Users\\Vasu\\anaconda3\\envs\\automl\\lib\\site-packages\\pymfe\\statistical.py:1271: RuntimeWarning: invalid value encountered in log\n",
      "  * np.log(np.linalg.det(pooled_cov_mat))\n"
     ]
    },
    {
     "name": "stdout",
     "output_type": "stream",
     "text": [
      "✅ Extracted meta-features for dataset_31_credit-g\n"
     ]
    },
    {
     "name": "stderr",
     "output_type": "stream",
     "text": [
      "c:\\Users\\Vasu\\anaconda3\\envs\\automl\\lib\\site-packages\\pymfe\\_internal.py:1567: UserWarning: It is not possible make equal discretization\n",
      "  warnings.warn(\"It is not possible make equal discretization\")\n",
      "c:\\Users\\Vasu\\anaconda3\\envs\\automl\\lib\\site-packages\\pymfe\\_internal.py:732: RuntimeWarning: Can't summarize feature 'can_cor' with summary 'sd'. Will set it as 'np.nan'.\n",
      "  warnings.warn(\n"
     ]
    },
    {
     "name": "stdout",
     "output_type": "stream",
     "text": [
      "✅ Extracted meta-features for dataset_37_diabetes\n"
     ]
    },
    {
     "name": "stderr",
     "output_type": "stream",
     "text": [
      "c:\\Users\\Vasu\\anaconda3\\envs\\automl\\lib\\site-packages\\pymfe\\_internal.py:1567: UserWarning: It is not possible make equal discretization\n",
      "  warnings.warn(\"It is not possible make equal discretization\")\n",
      "c:\\Users\\Vasu\\anaconda3\\envs\\automl\\lib\\site-packages\\numpy\\lib\\_function_base_impl.py:3045: RuntimeWarning: invalid value encountered in divide\n",
      "  c /= stddev[:, None]\n",
      "c:\\Users\\Vasu\\anaconda3\\envs\\automl\\lib\\site-packages\\numpy\\lib\\_function_base_impl.py:3046: RuntimeWarning: invalid value encountered in divide\n",
      "  c /= stddev[None, :]\n",
      "c:\\Users\\Vasu\\anaconda3\\envs\\automl\\lib\\site-packages\\pymfe\\_internal.py:732: RuntimeWarning: Can't summarize feature 'can_cor' with summary 'sd'. Will set it as 'np.nan'.\n",
      "  warnings.warn(\n",
      "c:\\Users\\Vasu\\anaconda3\\envs\\automl\\lib\\site-packages\\pymfe\\_internal.py:732: RuntimeWarning: Can't summarize feature 'cor' with summary 'mean'. Will set it as 'np.nan'.\n",
      "  warnings.warn(\n",
      "c:\\Users\\Vasu\\anaconda3\\envs\\automl\\lib\\site-packages\\pymfe\\_internal.py:732: RuntimeWarning: Can't summarize feature 'cor' with summary 'sd'. Will set it as 'np.nan'.\n",
      "  warnings.warn(\n",
      "c:\\Users\\Vasu\\anaconda3\\envs\\automl\\lib\\site-packages\\pymfe\\_internal.py:732: RuntimeWarning: Can't summarize feature 'g_mean' with summary 'mean'. Will set it as 'np.nan'.\n",
      "  warnings.warn(\n",
      "c:\\Users\\Vasu\\anaconda3\\envs\\automl\\lib\\site-packages\\pymfe\\_internal.py:732: RuntimeWarning: Can't summarize feature 'g_mean' with summary 'sd'. Will set it as 'np.nan'.\n",
      "  warnings.warn(\n",
      "c:\\Users\\Vasu\\anaconda3\\envs\\automl\\lib\\site-packages\\scipy\\stats\\_axis_nan_policy.py:618: RuntimeWarning: The harmonic mean is only defined if all elements are non-negative; otherwise, the result is NaN.\n",
      "  res = hypotest_fun_out(*samples, axis=axis, **kwds)\n",
      "c:\\Users\\Vasu\\anaconda3\\envs\\automl\\lib\\site-packages\\pymfe\\_internal.py:732: RuntimeWarning: Can't summarize feature 'h_mean' with summary 'mean'. Will set it as 'np.nan'.\n",
      "  warnings.warn(\n",
      "c:\\Users\\Vasu\\anaconda3\\envs\\automl\\lib\\site-packages\\pymfe\\_internal.py:732: RuntimeWarning: Can't summarize feature 'h_mean' with summary 'sd'. Will set it as 'np.nan'.\n",
      "  warnings.warn(\n",
      "c:\\Users\\Vasu\\anaconda3\\envs\\automl\\lib\\site-packages\\pymfe\\_internal.py:732: RuntimeWarning: Can't summarize feature 'kurtosis' with summary 'mean'. Will set it as 'np.nan'.\n",
      "  warnings.warn(\n",
      "c:\\Users\\Vasu\\anaconda3\\envs\\automl\\lib\\site-packages\\pymfe\\_internal.py:732: RuntimeWarning: Can't summarize feature 'kurtosis' with summary 'sd'. Will set it as 'np.nan'.\n",
      "  warnings.warn(\n",
      "c:\\Users\\Vasu\\anaconda3\\envs\\automl\\lib\\site-packages\\scipy\\stats\\_axis_nan_policy.py:586: UserWarning: scipy.stats.shapiro: Input data has range zero. The results may not be accurate.\n",
      "  res = hypotest_fun_out(*samples, **kwds)\n",
      "c:\\Users\\Vasu\\anaconda3\\envs\\automl\\lib\\site-packages\\pymfe\\statistical.py:1266: RuntimeWarning: divide by zero encountered in log\n",
      "  np.log(np.linalg.det(S_i)) for S_i in sample_cov_matrices\n",
      "c:\\Users\\Vasu\\anaconda3\\envs\\automl\\lib\\site-packages\\pymfe\\statistical.py:1271: RuntimeWarning: divide by zero encountered in log\n",
      "  * np.log(np.linalg.det(pooled_cov_mat))\n",
      "c:\\Users\\Vasu\\anaconda3\\envs\\automl\\lib\\site-packages\\pymfe\\statistical.py:1270: RuntimeWarning: invalid value encountered in scalar subtract\n",
      "  (num_inst - num_classes)\n",
      "c:\\Users\\Vasu\\anaconda3\\envs\\automl\\lib\\site-packages\\pymfe\\_internal.py:732: RuntimeWarning: Can't summarize feature 'skewness' with summary 'mean'. Will set it as 'np.nan'.\n",
      "  warnings.warn(\n",
      "c:\\Users\\Vasu\\anaconda3\\envs\\automl\\lib\\site-packages\\pymfe\\_internal.py:732: RuntimeWarning: Can't summarize feature 'skewness' with summary 'sd'. Will set it as 'np.nan'.\n",
      "  warnings.warn(\n"
     ]
    },
    {
     "name": "stdout",
     "output_type": "stream",
     "text": [
      "✅ Extracted meta-features for dataset_41159_guillermo\n"
     ]
    },
    {
     "name": "stderr",
     "output_type": "stream",
     "text": [
      "c:\\Users\\Vasu\\anaconda3\\envs\\automl\\lib\\site-packages\\pymfe\\_internal.py:1567: UserWarning: It is not possible make equal discretization\n",
      "  warnings.warn(\"It is not possible make equal discretization\")\n",
      "c:\\Users\\Vasu\\anaconda3\\envs\\automl\\lib\\site-packages\\pymfe\\statistical.py:1225: RuntimeWarning: Degrees of freedom <= 0 for slice\n",
      "  np.cov(N[y == cl, :], rowvar=False, ddof=ddof)\n",
      "c:\\Users\\Vasu\\anaconda3\\envs\\automl\\lib\\site-packages\\numpy\\lib\\_function_base_impl.py:2894: RuntimeWarning: divide by zero encountered in divide\n",
      "  c *= np.true_divide(1, fact)\n",
      "c:\\Users\\Vasu\\anaconda3\\envs\\automl\\lib\\site-packages\\numpy\\lib\\_function_base_impl.py:2894: RuntimeWarning: invalid value encountered in multiply\n",
      "  c *= np.true_divide(1, fact)\n",
      "c:\\Users\\Vasu\\anaconda3\\envs\\automl\\lib\\site-packages\\pymfe\\statistical.py:1253: RuntimeWarning: divide by zero encountered in divide\n",
      "  ) * (np.sum(1.0 / vec_weight) - 1.0 / (num_inst - num_classes))\n",
      "c:\\Users\\Vasu\\anaconda3\\envs\\automl\\lib\\site-packages\\numpy\\linalg\\_linalg.py:2383: RuntimeWarning: invalid value encountered in det\n",
      "  r = _umath_linalg.det(a, signature=signature)\n",
      "c:\\Users\\Vasu\\anaconda3\\envs\\automl\\lib\\site-packages\\pymfe\\statistical.py:1266: RuntimeWarning: divide by zero encountered in log\n",
      "  np.log(np.linalg.det(S_i)) for S_i in sample_cov_matrices\n",
      "c:\\Users\\Vasu\\anaconda3\\envs\\automl\\lib\\site-packages\\pymfe\\statistical.py:1266: RuntimeWarning: invalid value encountered in log\n",
      "  np.log(np.linalg.det(S_i)) for S_i in sample_cov_matrices\n"
     ]
    },
    {
     "name": "stdout",
     "output_type": "stream",
     "text": [
      "✅ Extracted meta-features for dataset_42183_dataset_sales\n"
     ]
    },
    {
     "name": "stderr",
     "output_type": "stream",
     "text": [
      "c:\\Users\\Vasu\\anaconda3\\envs\\automl\\lib\\site-packages\\pymfe\\_internal.py:1567: UserWarning: It is not possible make equal discretization\n",
      "  warnings.warn(\"It is not possible make equal discretization\")\n",
      "c:\\Users\\Vasu\\anaconda3\\envs\\automl\\lib\\site-packages\\pymfe\\_internal.py:732: RuntimeWarning: Can't summarize feature 'can_cor' with summary 'sd'. Will set it as 'np.nan'.\n",
      "  warnings.warn(\n"
     ]
    },
    {
     "name": "stdout",
     "output_type": "stream",
     "text": [
      "✅ Extracted meta-features for dataset_44_spambase\n",
      "✅ Extracted meta-features for dataset_61_iris\n",
      "✅ Saved meta-features → ../meta_dataset/meta_features.csv\n"
     ]
    }
   ],
   "source": [
    "import pandas as pd\n",
    "import os\n",
    "from pymfe.mfe import MFE\n",
    "\n",
    "raw_path = \"../data/raw\"\n",
    "output_file = \"../meta_dataset/meta_features.csv\"\n",
    "\n",
    "meta_records = []\n",
    "\n",
    "# Loop through all CSVs in data/raw\n",
    "for fname in os.listdir(raw_path):\n",
    "    if fname.endswith(\".csv\"):\n",
    "        dataset_name = fname.replace(\".csv\", \"\")\n",
    "        df = pd.read_csv(os.path.join(raw_path, fname))\n",
    "        \n",
    "        # Assume last column = target\n",
    "        X, y = df.iloc[:, :-1], df.iloc[:, -1]\n",
    "        \n",
    "        # Extract meta-features\n",
    "        mfe = MFE(groups=[\"general\", \"statistical\", \"info-theory\"], random_state=42)\n",
    "        mfe.fit(X.values, y.values)\n",
    "        ft_names, ft_values = mfe.extract()\n",
    "        \n",
    "        # Store results\n",
    "        record = {\"dataset\": dataset_name}\n",
    "        for name, value in zip(ft_names, ft_values):\n",
    "            record[name] = value\n",
    "        meta_records.append(record)\n",
    "        \n",
    "        print(f\"✅ Extracted meta-features for {dataset_name}\")\n",
    "\n",
    "# Save to CSV\n",
    "meta_df = pd.DataFrame(meta_records)\n",
    "meta_df.to_csv(output_file, index=False)\n",
    "print(f\"✅ Saved meta-features → {output_file}\")\n"
   ]
  }
 ],
 "metadata": {
  "kernelspec": {
   "display_name": "automl",
   "language": "python",
   "name": "python3"
  },
  "language_info": {
   "codemirror_mode": {
    "name": "ipython",
    "version": 3
   },
   "file_extension": ".py",
   "mimetype": "text/x-python",
   "name": "python",
   "nbconvert_exporter": "python",
   "pygments_lexer": "ipython3",
   "version": "3.10.18"
  }
 },
 "nbformat": 4,
 "nbformat_minor": 5
}
