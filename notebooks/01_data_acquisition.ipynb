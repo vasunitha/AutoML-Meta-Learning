{
 "cells": [
  {
   "cell_type": "code",
   "execution_count": 4,
   "id": "44ac01d7",
   "metadata": {},
   "outputs": [
    {
     "name": "stdout",
     "output_type": "stream",
     "text": [
      "✅ Saved credit-g → ..\\data\\raw\\dataset_31_credit-g.csv\n",
      "✅ Saved diabetes → ..\\data\\raw\\dataset_37_diabetes.csv\n",
      "✅ Saved spambase → ..\\data\\raw\\dataset_44_spambase.csv\n",
      "✅ Saved electricity → ..\\data\\raw\\dataset_151_electricity.csv\n",
      "✅ Saved BNG(ionosphere) → ..\\data\\raw\\dataset_146_BNG(ionosphere).csv\n",
      "✅ Saved iris → ..\\data\\raw\\dataset_61_iris.csv\n",
      "✅ Saved eucalyptus → ..\\data\\raw\\dataset_188_eucalyptus.csv\n",
      "✅ Saved guillermo → ..\\data\\raw\\dataset_41159_guillermo.csv\n",
      "✅ Saved phoneme → ..\\data\\raw\\dataset_1489_phoneme.csv\n",
      "✅ Saved dataset_sales → ..\\data\\raw\\dataset_42183_dataset_sales.csv\n"
     ]
    }
   ],
   "source": [
    "import openml\n",
    "import pandas as pd\n",
    "from pathlib import Path\n",
    "\n",
    "# Save raw datasets here\n",
    "raw_path = Path(\"../data/raw\")\n",
    "raw_path.mkdir(parents=True, exist_ok=True)\n",
    "\n",
    "# Example OpenML dataset IDs\n",
    "dataset_ids = [31, 37, 44, 151, 146, 61, 188, 41159, 1489, 42183]\n",
    "\n",
    "datasets = {}\n",
    "for did in dataset_ids:\n",
    "    dataset = openml.datasets.get_dataset(did)\n",
    "    X, y, _, _ = dataset.get_data(target=dataset.default_target_attribute)\n",
    "    \n",
    "    df = pd.concat([X, y], axis=1)\n",
    "    fname = raw_path / f\"dataset_{did}_{dataset.name}.csv\"\n",
    "    df.to_csv(fname, index=False)\n",
    "    datasets[did] = fname\n",
    "    print(f\"✅ Saved {dataset.name} → {fname}\")\n"
   ]
  },
  {
   "cell_type": "code",
   "execution_count": 5,
   "id": "99f915fd",
   "metadata": {},
   "outputs": [
    {
     "name": "stdout",
     "output_type": "stream",
     "text": [
      "✅ Created dataset index\n"
     ]
    }
   ],
   "source": [
    "dataset_index = pd.DataFrame([\n",
    "    {\"id\": 31, \"name\": \"titanic\"},\n",
    "    {\"id\": 37, \"name\": \"diabetes\"},\n",
    "    {\"id\": 44, \"name\": \"spambase\"},\n",
    "    {\"id\": 151, \"name\": \"adult\"},\n",
    "    {\"id\": 146, \"name\": \"iris\"},\n",
    "    {\"id\": 61, \"name\": \"iris (openml)\"},\n",
    "    {\"id\": 188, \"name\": \"breast-cancer\"},\n",
    "    {\"id\": 41159, \"name\": \"phoneme\"},\n",
    "    {\"id\": 1489, \"name\": \"ozone\"},\n",
    "    {\"id\": 42183, \"name\": \"house-prices\"},\n",
    "])\n",
    "\n",
    "dataset_index.to_csv(\"../data/dataset_index.csv\", index=False)\n",
    "print(\"✅ Created dataset index\")\n"
   ]
  }
 ],
 "metadata": {
  "kernelspec": {
   "display_name": "automl-meta",
   "language": "python",
   "name": "python3"
  },
  "language_info": {
   "codemirror_mode": {
    "name": "ipython",
    "version": 3
   },
   "file_extension": ".py",
   "mimetype": "text/x-python",
   "name": "python",
   "nbconvert_exporter": "python",
   "pygments_lexer": "ipython3",
   "version": "3.10.18"
  }
 },
 "nbformat": 4,
 "nbformat_minor": 5
}
